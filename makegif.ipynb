{
 "cells": [
  {
   "cell_type": "code",
   "execution_count": 1,
   "metadata": {},
   "outputs": [],
   "source": [
    "import imageio"
   ]
  },
  {
   "cell_type": "code",
   "execution_count": null,
   "metadata": {},
   "outputs": [],
   "source": []
  },
  {
   "cell_type": "code",
   "execution_count": 2,
   "metadata": {},
   "outputs": [
    {
     "name": "stderr",
     "output_type": "stream",
     "text": [
      "/var/folders/n2/r7d0jtc16fx8kmvqdxdkff3c0000gn/T/ipykernel_85125/3195850958.py:5: DeprecationWarning: Starting with ImageIO v3 the behavior of this function will switch to that of iio.v3.imread. To keep the current behavior (and make this warning disappear) use `import imageio.v2 as imageio` or call `imageio.v2.imread` directly.\n",
      "  image = imageio.imread(fig_file+file_name)\n",
      "/var/folders/n2/r7d0jtc16fx8kmvqdxdkff3c0000gn/T/ipykernel_85125/3195850958.py:12: DeprecationWarning: Starting with ImageIO v3 the behavior of this function will switch to that of iio.v3.imread. To keep the current behavior (and make this warning disappear) use `import imageio.v2 as imageio` or call `imageio.v2.imread` directly.\n",
      "  image = imageio.imread(fig_file+file_name)\n",
      "/var/folders/n2/r7d0jtc16fx8kmvqdxdkff3c0000gn/T/ipykernel_85125/3195850958.py:19: DeprecationWarning: Starting with ImageIO v3 the behavior of this function will switch to that of iio.v3.imread. To keep the current behavior (and make this warning disappear) use `import imageio.v2 as imageio` or call `imageio.v2.imread` directly.\n",
      "  image = imageio.imread(fig_file+file_name)\n"
     ]
    }
   ],
   "source": [
    "fig_file='/Users/rsullivan/Desktop/McGillHackathon_2022/McGill_hackathon_2022/gif_figures/both_cut/'\n",
    "with imageio.get_writer('both_frfi.gif', mode='I') as writer:\n",
    "    for i in range(0,100):\n",
    "        file_name='frfi_'+str(i).zfill(3)+'.png'\n",
    "        image = imageio.imread(fig_file+file_name)\n",
    "        writer.append_data(image)\n",
    "\n",
    "fig_file='/Users/rsullivan/Desktop/McGillHackathon_2022/McGill_hackathon_2022/gif_figures/center_cut/'\n",
    "with imageio.get_writer('center_frfi.gif', mode='I') as writer:\n",
    "    for i in range(0,100):\n",
    "        file_name='frfi_'+str(i).zfill(3)+'.png'\n",
    "        image = imageio.imread(fig_file+file_name)\n",
    "        writer.append_data(image)\n",
    "\n",
    "fig_file='/Users/rsullivan/Desktop/McGillHackathon_2022/McGill_hackathon_2022/gif_figures/sides_cut/'\n",
    "with imageio.get_writer('sides_frfi.gif', mode='I') as writer:\n",
    "    for i in range(0,100):\n",
    "        file_name='frfi_'+str(i).zfill(3)+'.png'\n",
    "        image = imageio.imread(fig_file+file_name)\n",
    "        writer.append_data(image)"
   ]
  },
  {
   "cell_type": "code",
   "execution_count": 3,
   "metadata": {},
   "outputs": [
    {
     "name": "stderr",
     "output_type": "stream",
     "text": [
      "/var/folders/n2/r7d0jtc16fx8kmvqdxdkff3c0000gn/T/ipykernel_85125/3358670606.py:5: DeprecationWarning: Starting with ImageIO v3 the behavior of this function will switch to that of iio.v3.imread. To keep the current behavior (and make this warning disappear) use `import imageio.v2 as imageio` or call `imageio.v2.imread` directly.\n",
      "  image = imageio.imread(fig_file+file_name)\n",
      "/var/folders/n2/r7d0jtc16fx8kmvqdxdkff3c0000gn/T/ipykernel_85125/3358670606.py:12: DeprecationWarning: Starting with ImageIO v3 the behavior of this function will switch to that of iio.v3.imread. To keep the current behavior (and make this warning disappear) use `import imageio.v2 as imageio` or call `imageio.v2.imread` directly.\n",
      "  image = imageio.imread(fig_file+file_name)\n",
      "/var/folders/n2/r7d0jtc16fx8kmvqdxdkff3c0000gn/T/ipykernel_85125/3358670606.py:19: DeprecationWarning: Starting with ImageIO v3 the behavior of this function will switch to that of iio.v3.imread. To keep the current behavior (and make this warning disappear) use `import imageio.v2 as imageio` or call `imageio.v2.imread` directly.\n",
      "  image = imageio.imread(fig_file+file_name)\n"
     ]
    }
   ],
   "source": [
    "fig_file='/Users/rsullivan/Desktop/McGillHackathon_2022/McGill_hackathon_2022/gif_figures/both_cut/'\n",
    "with imageio.get_writer('both_rfi.gif', mode='I') as writer:\n",
    "    for i in range(0,100):\n",
    "        file_name='rfi_'+str(i).zfill(3)+'.png'\n",
    "        image = imageio.imread(fig_file+file_name)\n",
    "        writer.append_data(image)\n",
    "\n",
    "fig_file='/Users/rsullivan/Desktop/McGillHackathon_2022/McGill_hackathon_2022/gif_figures/center_cut/'\n",
    "with imageio.get_writer('center_rfi.gif', mode='I') as writer:\n",
    "    for i in range(0,100):\n",
    "        file_name='rfi_'+str(i).zfill(3)+'.png'\n",
    "        image = imageio.imread(fig_file+file_name)\n",
    "        writer.append_data(image)\n",
    "\n",
    "fig_file='/Users/rsullivan/Desktop/McGillHackathon_2022/McGill_hackathon_2022/gif_figures/sides_cut/'\n",
    "with imageio.get_writer('sides_rfi.gif', mode='I') as writer:\n",
    "    for i in range(0,100):\n",
    "        file_name='rfi_'+str(i).zfill(3)+'.png'\n",
    "        image = imageio.imread(fig_file+file_name)\n",
    "        writer.append_data(image)"
   ]
  },
  {
   "cell_type": "code",
   "execution_count": 4,
   "metadata": {},
   "outputs": [
    {
     "name": "stderr",
     "output_type": "stream",
     "text": [
      "/var/folders/n2/r7d0jtc16fx8kmvqdxdkff3c0000gn/T/ipykernel_85125/280898074.py:5: DeprecationWarning: Starting with ImageIO v3 the behavior of this function will switch to that of iio.v3.imread. To keep the current behavior (and make this warning disappear) use `import imageio.v2 as imageio` or call `imageio.v2.imread` directly.\n",
      "  image = imageio.imread(fig_file+file_name)\n",
      "/var/folders/n2/r7d0jtc16fx8kmvqdxdkff3c0000gn/T/ipykernel_85125/280898074.py:12: DeprecationWarning: Starting with ImageIO v3 the behavior of this function will switch to that of iio.v3.imread. To keep the current behavior (and make this warning disappear) use `import imageio.v2 as imageio` or call `imageio.v2.imread` directly.\n",
      "  image = imageio.imread(fig_file+file_name)\n",
      "/var/folders/n2/r7d0jtc16fx8kmvqdxdkff3c0000gn/T/ipykernel_85125/280898074.py:19: DeprecationWarning: Starting with ImageIO v3 the behavior of this function will switch to that of iio.v3.imread. To keep the current behavior (and make this warning disappear) use `import imageio.v2 as imageio` or call `imageio.v2.imread` directly.\n",
      "  image = imageio.imread(fig_file+file_name)\n"
     ]
    }
   ],
   "source": [
    "fig_file='/Users/rsullivan/Desktop/McGillHackathon_2022/McGill_hackathon_2022/gif_figures/both_cut/'\n",
    "with imageio.get_writer('both_fdat.gif', mode='I') as writer:\n",
    "    for i in range(0,100):\n",
    "        file_name='fdat_'+str(i).zfill(3)+'.png'\n",
    "        image = imageio.imread(fig_file+file_name)\n",
    "        writer.append_data(image)\n",
    "\n",
    "fig_file='/Users/rsullivan/Desktop/McGillHackathon_2022/McGill_hackathon_2022/gif_figures/center_cut/'\n",
    "with imageio.get_writer('center_fdat.gif', mode='I') as writer:\n",
    "    for i in range(0,100):\n",
    "        file_name='fdat_'+str(i).zfill(3)+'.png'\n",
    "        image = imageio.imread(fig_file+file_name)\n",
    "        writer.append_data(image)\n",
    "\n",
    "fig_file='/Users/rsullivan/Desktop/McGillHackathon_2022/McGill_hackathon_2022/gif_figures/sides_cut/'\n",
    "with imageio.get_writer('sides_fdat.gif', mode='I') as writer:\n",
    "    for i in range(0,100):\n",
    "        file_name='fdat_'+str(i).zfill(3)+'.png'\n",
    "        image = imageio.imread(fig_file+file_name)\n",
    "        writer.append_data(image)"
   ]
  },
  {
   "cell_type": "code",
   "execution_count": 5,
   "metadata": {},
   "outputs": [
    {
     "name": "stderr",
     "output_type": "stream",
     "text": [
      "/var/folders/n2/r7d0jtc16fx8kmvqdxdkff3c0000gn/T/ipykernel_85125/1664456509.py:5: DeprecationWarning: Starting with ImageIO v3 the behavior of this function will switch to that of iio.v3.imread. To keep the current behavior (and make this warning disappear) use `import imageio.v2 as imageio` or call `imageio.v2.imread` directly.\n",
      "  image = imageio.imread(fig_file+file_name)\n",
      "/var/folders/n2/r7d0jtc16fx8kmvqdxdkff3c0000gn/T/ipykernel_85125/1664456509.py:12: DeprecationWarning: Starting with ImageIO v3 the behavior of this function will switch to that of iio.v3.imread. To keep the current behavior (and make this warning disappear) use `import imageio.v2 as imageio` or call `imageio.v2.imread` directly.\n",
      "  image = imageio.imread(fig_file+file_name)\n",
      "/var/folders/n2/r7d0jtc16fx8kmvqdxdkff3c0000gn/T/ipykernel_85125/1664456509.py:19: DeprecationWarning: Starting with ImageIO v3 the behavior of this function will switch to that of iio.v3.imread. To keep the current behavior (and make this warning disappear) use `import imageio.v2 as imageio` or call `imageio.v2.imread` directly.\n",
      "  image = imageio.imread(fig_file+file_name)\n"
     ]
    }
   ],
   "source": [
    "fig_file='/Users/rsullivan/Desktop/McGillHackathon_2022/McGill_hackathon_2022/gif_figures/both_cut/'\n",
    "with imageio.get_writer('both_dat.gif', mode='I') as writer:\n",
    "    for i in range(0,100):\n",
    "        file_name='dat_'+str(i).zfill(3)+'.png'\n",
    "        image = imageio.imread(fig_file+file_name)\n",
    "        writer.append_data(image)\n",
    "\n",
    "fig_file='/Users/rsullivan/Desktop/McGillHackathon_2022/McGill_hackathon_2022/gif_figures/center_cut/'\n",
    "with imageio.get_writer('center_dat.gif', mode='I') as writer:\n",
    "    for i in range(0,100):\n",
    "        file_name='dat_'+str(i).zfill(3)+'.png'\n",
    "        image = imageio.imread(fig_file+file_name)\n",
    "        writer.append_data(image)\n",
    "\n",
    "fig_file='/Users/rsullivan/Desktop/McGillHackathon_2022/McGill_hackathon_2022/gif_figures/sides_cut/'\n",
    "with imageio.get_writer('sides_dat.gif', mode='I') as writer:\n",
    "    for i in range(0,100):\n",
    "        file_name='dat_'+str(i).zfill(3)+'.png'\n",
    "        image = imageio.imread(fig_file+file_name)\n",
    "        writer.append_data(image)"
   ]
  },
  {
   "cell_type": "code",
   "execution_count": 6,
   "metadata": {},
   "outputs": [
    {
     "name": "stderr",
     "output_type": "stream",
     "text": [
      "/var/folders/n2/r7d0jtc16fx8kmvqdxdkff3c0000gn/T/ipykernel_85125/1027197806.py:5: DeprecationWarning: Starting with ImageIO v3 the behavior of this function will switch to that of iio.v3.imread. To keep the current behavior (and make this warning disappear) use `import imageio.v2 as imageio` or call `imageio.v2.imread` directly.\n",
      "  image = imageio.imread(fig_file+file_name)\n",
      "/var/folders/n2/r7d0jtc16fx8kmvqdxdkff3c0000gn/T/ipykernel_85125/1027197806.py:12: DeprecationWarning: Starting with ImageIO v3 the behavior of this function will switch to that of iio.v3.imread. To keep the current behavior (and make this warning disappear) use `import imageio.v2 as imageio` or call `imageio.v2.imread` directly.\n",
      "  image = imageio.imread(fig_file+file_name)\n",
      "/var/folders/n2/r7d0jtc16fx8kmvqdxdkff3c0000gn/T/ipykernel_85125/1027197806.py:19: DeprecationWarning: Starting with ImageIO v3 the behavior of this function will switch to that of iio.v3.imread. To keep the current behavior (and make this warning disappear) use `import imageio.v2 as imageio` or call `imageio.v2.imread` directly.\n",
      "  image = imageio.imread(fig_file+file_name)\n"
     ]
    }
   ],
   "source": [
    "fig_file='/Users/rsullivan/Desktop/McGillHackathon_2022/McGill_hackathon_2022/gif_figures/both_cut/'\n",
    "with imageio.get_writer('both_fdat_rfi.gif', mode='I') as writer:\n",
    "    for i in range(0,100):\n",
    "        file_name='fdat_rfi_'+str(i).zfill(3)+'.png'\n",
    "        image = imageio.imread(fig_file+file_name)\n",
    "        writer.append_data(image)\n",
    "\n",
    "fig_file='/Users/rsullivan/Desktop/McGillHackathon_2022/McGill_hackathon_2022/gif_figures/center_cut/'\n",
    "with imageio.get_writer('center_fdat_rfi.gif', mode='I') as writer:\n",
    "    for i in range(0,100):\n",
    "        file_name='fdat_rfi_'+str(i).zfill(3)+'.png'\n",
    "        image = imageio.imread(fig_file+file_name)\n",
    "        writer.append_data(image)\n",
    "\n",
    "fig_file='/Users/rsullivan/Desktop/McGillHackathon_2022/McGill_hackathon_2022/gif_figures/sides_cut/'\n",
    "with imageio.get_writer('sides_fdat_rfi.gif', mode='I') as writer:\n",
    "    for i in range(0,100):\n",
    "        file_name='fdat_rfi_'+str(i).zfill(3)+'.png'\n",
    "        image = imageio.imread(fig_file+file_name)\n",
    "        writer.append_data(image)"
   ]
  },
  {
   "cell_type": "code",
   "execution_count": 7,
   "metadata": {},
   "outputs": [
    {
     "name": "stderr",
     "output_type": "stream",
     "text": [
      "/var/folders/n2/r7d0jtc16fx8kmvqdxdkff3c0000gn/T/ipykernel_85125/3959910979.py:5: DeprecationWarning: Starting with ImageIO v3 the behavior of this function will switch to that of iio.v3.imread. To keep the current behavior (and make this warning disappear) use `import imageio.v2 as imageio` or call `imageio.v2.imread` directly.\n",
      "  image = imageio.imread(fig_file+file_name)\n",
      "/var/folders/n2/r7d0jtc16fx8kmvqdxdkff3c0000gn/T/ipykernel_85125/3959910979.py:12: DeprecationWarning: Starting with ImageIO v3 the behavior of this function will switch to that of iio.v3.imread. To keep the current behavior (and make this warning disappear) use `import imageio.v2 as imageio` or call `imageio.v2.imread` directly.\n",
      "  image = imageio.imread(fig_file+file_name)\n",
      "/var/folders/n2/r7d0jtc16fx8kmvqdxdkff3c0000gn/T/ipykernel_85125/3959910979.py:19: DeprecationWarning: Starting with ImageIO v3 the behavior of this function will switch to that of iio.v3.imread. To keep the current behavior (and make this warning disappear) use `import imageio.v2 as imageio` or call `imageio.v2.imread` directly.\n",
      "  image = imageio.imread(fig_file+file_name)\n"
     ]
    }
   ],
   "source": [
    "fig_file='/Users/rsullivan/Desktop/McGillHackathon_2022/McGill_hackathon_2022/gif_figures/both_cut/'\n",
    "with imageio.get_writer('both_dat_rfi.gif', mode='I') as writer:\n",
    "    for i in range(0,100):\n",
    "        file_name='dat_rfi_'+str(i).zfill(3)+'.png'\n",
    "        image = imageio.imread(fig_file+file_name)\n",
    "        writer.append_data(image)\n",
    "\n",
    "fig_file='/Users/rsullivan/Desktop/McGillHackathon_2022/McGill_hackathon_2022/gif_figures/center_cut/'\n",
    "with imageio.get_writer('center_dat_rfi.gif', mode='I') as writer:\n",
    "    for i in range(0,100):\n",
    "        file_name='dat_rfi_'+str(i).zfill(3)+'.png'\n",
    "        image = imageio.imread(fig_file+file_name)\n",
    "        writer.append_data(image)\n",
    "\n",
    "fig_file='/Users/rsullivan/Desktop/McGillHackathon_2022/McGill_hackathon_2022/gif_figures/sides_cut/'\n",
    "with imageio.get_writer('sides_dat_rfi.gif', mode='I') as writer:\n",
    "    for i in range(0,100):\n",
    "        file_name='dat_rfi_'+str(i).zfill(3)+'.png'\n",
    "        image = imageio.imread(fig_file+file_name)\n",
    "        writer.append_data(image)"
   ]
  },
  {
   "cell_type": "code",
   "execution_count": null,
   "metadata": {},
   "outputs": [],
   "source": []
  }
 ],
 "metadata": {
  "kernelspec": {
   "display_name": "Python 3.10.6 ('fourierhack')",
   "language": "python",
   "name": "python3"
  },
  "language_info": {
   "codemirror_mode": {
    "name": "ipython",
    "version": 3
   },
   "file_extension": ".py",
   "mimetype": "text/x-python",
   "name": "python",
   "nbconvert_exporter": "python",
   "pygments_lexer": "ipython3",
   "version": "3.10.6"
  },
  "orig_nbformat": 4,
  "vscode": {
   "interpreter": {
    "hash": "9e7093b843e0c410da1a51999cebe954a8bfd23b9dcd28ad1dbf103f356cda79"
   }
  }
 },
 "nbformat": 4,
 "nbformat_minor": 2
}
